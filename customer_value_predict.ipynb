{
 "cells": [
  {
   "cell_type": "code",
   "execution_count": 5,
   "id": "b5d19673",
   "metadata": {},
   "outputs": [],
   "source": [
    "import pandas as pd"
   ]
  },
  {
   "cell_type": "code",
   "execution_count": 6,
   "id": "1729706b",
   "metadata": {},
   "outputs": [
    {
     "data": {
      "text/html": [
       "<div>\n",
       "<style scoped>\n",
       "    .dataframe tbody tr th:only-of-type {\n",
       "        vertical-align: middle;\n",
       "    }\n",
       "\n",
       "    .dataframe tbody tr th {\n",
       "        vertical-align: top;\n",
       "    }\n",
       "\n",
       "    .dataframe thead th {\n",
       "        text-align: right;\n",
       "    }\n",
       "</style>\n",
       "<table border=\"1\" class=\"dataframe\">\n",
       "  <thead>\n",
       "    <tr style=\"text-align: right;\">\n",
       "      <th></th>\n",
       "      <th>Unnamed: 0</th>\n",
       "      <th>customer</th>\n",
       "      <th>Recency</th>\n",
       "      <th>RecencyCluster</th>\n",
       "      <th>Frequency</th>\n",
       "      <th>FrequencyCluster</th>\n",
       "      <th>Revenue</th>\n",
       "      <th>RevenueCluster</th>\n",
       "      <th>OverallScore</th>\n",
       "      <th>Segment</th>\n",
       "    </tr>\n",
       "  </thead>\n",
       "  <tbody>\n",
       "    <tr>\n",
       "      <th>0</th>\n",
       "      <td>0</td>\n",
       "      <td>db066f98-5eaa-4655-803d-25d461ff96ab</td>\n",
       "      <td>139</td>\n",
       "      <td>2</td>\n",
       "      <td>182</td>\n",
       "      <td>3</td>\n",
       "      <td>18921</td>\n",
       "      <td>3</td>\n",
       "      <td>8</td>\n",
       "      <td>High-Value</td>\n",
       "    </tr>\n",
       "    <tr>\n",
       "      <th>1</th>\n",
       "      <td>1</td>\n",
       "      <td>99ea1aba-d615-4541-b067-bc14b45a23b2</td>\n",
       "      <td>131</td>\n",
       "      <td>2</td>\n",
       "      <td>171</td>\n",
       "      <td>3</td>\n",
       "      <td>15691</td>\n",
       "      <td>3</td>\n",
       "      <td>8</td>\n",
       "      <td>High-Value</td>\n",
       "    </tr>\n",
       "    <tr>\n",
       "      <th>2</th>\n",
       "      <td>2</td>\n",
       "      <td>d5b011c9-76b4-48c0-8c9b-ddd48df0df50</td>\n",
       "      <td>134</td>\n",
       "      <td>2</td>\n",
       "      <td>146</td>\n",
       "      <td>3</td>\n",
       "      <td>16907</td>\n",
       "      <td>3</td>\n",
       "      <td>8</td>\n",
       "      <td>High-Value</td>\n",
       "    </tr>\n",
       "    <tr>\n",
       "      <th>3</th>\n",
       "      <td>3</td>\n",
       "      <td>79d29e99-f334-4f0b-8b6c-e1730fde5195</td>\n",
       "      <td>239</td>\n",
       "      <td>2</td>\n",
       "      <td>142</td>\n",
       "      <td>3</td>\n",
       "      <td>19298</td>\n",
       "      <td>3</td>\n",
       "      <td>8</td>\n",
       "      <td>High-Value</td>\n",
       "    </tr>\n",
       "    <tr>\n",
       "      <th>4</th>\n",
       "      <td>4</td>\n",
       "      <td>808e49fb-3844-4926-acff-10208b9b40e6</td>\n",
       "      <td>181</td>\n",
       "      <td>2</td>\n",
       "      <td>142</td>\n",
       "      <td>3</td>\n",
       "      <td>20960</td>\n",
       "      <td>3</td>\n",
       "      <td>8</td>\n",
       "      <td>High-Value</td>\n",
       "    </tr>\n",
       "    <tr>\n",
       "      <th>...</th>\n",
       "      <td>...</td>\n",
       "      <td>...</td>\n",
       "      <td>...</td>\n",
       "      <td>...</td>\n",
       "      <td>...</td>\n",
       "      <td>...</td>\n",
       "      <td>...</td>\n",
       "      <td>...</td>\n",
       "      <td>...</td>\n",
       "      <td>...</td>\n",
       "    </tr>\n",
       "    <tr>\n",
       "      <th>182327</th>\n",
       "      <td>182327</td>\n",
       "      <td>63e4814f-3b42-44b0-aee5-56b0ab432801</td>\n",
       "      <td>468</td>\n",
       "      <td>0</td>\n",
       "      <td>1</td>\n",
       "      <td>0</td>\n",
       "      <td>300</td>\n",
       "      <td>0</td>\n",
       "      <td>0</td>\n",
       "      <td>Low-Value</td>\n",
       "    </tr>\n",
       "    <tr>\n",
       "      <th>182328</th>\n",
       "      <td>182328</td>\n",
       "      <td>59ae9488-705e-4974-a764-bf1502b47bdd</td>\n",
       "      <td>468</td>\n",
       "      <td>0</td>\n",
       "      <td>1</td>\n",
       "      <td>0</td>\n",
       "      <td>300</td>\n",
       "      <td>0</td>\n",
       "      <td>0</td>\n",
       "      <td>Low-Value</td>\n",
       "    </tr>\n",
       "    <tr>\n",
       "      <th>182329</th>\n",
       "      <td>182329</td>\n",
       "      <td>3369bff6-aa95-43a2-8fa7-95abad596cd4</td>\n",
       "      <td>468</td>\n",
       "      <td>0</td>\n",
       "      <td>1</td>\n",
       "      <td>0</td>\n",
       "      <td>300</td>\n",
       "      <td>0</td>\n",
       "      <td>0</td>\n",
       "      <td>Low-Value</td>\n",
       "    </tr>\n",
       "    <tr>\n",
       "      <th>182330</th>\n",
       "      <td>182330</td>\n",
       "      <td>0df33f26-bdf2-47d0-9b4c-b93c73b7f517</td>\n",
       "      <td>468</td>\n",
       "      <td>0</td>\n",
       "      <td>1</td>\n",
       "      <td>0</td>\n",
       "      <td>300</td>\n",
       "      <td>0</td>\n",
       "      <td>0</td>\n",
       "      <td>Low-Value</td>\n",
       "    </tr>\n",
       "    <tr>\n",
       "      <th>182331</th>\n",
       "      <td>182331</td>\n",
       "      <td>d52a2b1b-22f4-4322-8184-3c57eabe27b2</td>\n",
       "      <td>602</td>\n",
       "      <td>0</td>\n",
       "      <td>2</td>\n",
       "      <td>0</td>\n",
       "      <td>409</td>\n",
       "      <td>0</td>\n",
       "      <td>0</td>\n",
       "      <td>Low-Value</td>\n",
       "    </tr>\n",
       "  </tbody>\n",
       "</table>\n",
       "<p>182332 rows × 10 columns</p>\n",
       "</div>"
      ],
      "text/plain": [
       "        Unnamed: 0                              customer  Recency  \\\n",
       "0                0  db066f98-5eaa-4655-803d-25d461ff96ab      139   \n",
       "1                1  99ea1aba-d615-4541-b067-bc14b45a23b2      131   \n",
       "2                2  d5b011c9-76b4-48c0-8c9b-ddd48df0df50      134   \n",
       "3                3  79d29e99-f334-4f0b-8b6c-e1730fde5195      239   \n",
       "4                4  808e49fb-3844-4926-acff-10208b9b40e6      181   \n",
       "...            ...                                   ...      ...   \n",
       "182327      182327  63e4814f-3b42-44b0-aee5-56b0ab432801      468   \n",
       "182328      182328  59ae9488-705e-4974-a764-bf1502b47bdd      468   \n",
       "182329      182329  3369bff6-aa95-43a2-8fa7-95abad596cd4      468   \n",
       "182330      182330  0df33f26-bdf2-47d0-9b4c-b93c73b7f517      468   \n",
       "182331      182331  d52a2b1b-22f4-4322-8184-3c57eabe27b2      602   \n",
       "\n",
       "        RecencyCluster  Frequency  FrequencyCluster  Revenue  RevenueCluster  \\\n",
       "0                    2        182                 3    18921               3   \n",
       "1                    2        171                 3    15691               3   \n",
       "2                    2        146                 3    16907               3   \n",
       "3                    2        142                 3    19298               3   \n",
       "4                    2        142                 3    20960               3   \n",
       "...                ...        ...               ...      ...             ...   \n",
       "182327               0          1                 0      300               0   \n",
       "182328               0          1                 0      300               0   \n",
       "182329               0          1                 0      300               0   \n",
       "182330               0          1                 0      300               0   \n",
       "182331               0          2                 0      409               0   \n",
       "\n",
       "        OverallScore     Segment  \n",
       "0                  8  High-Value  \n",
       "1                  8  High-Value  \n",
       "2                  8  High-Value  \n",
       "3                  8  High-Value  \n",
       "4                  8  High-Value  \n",
       "...              ...         ...  \n",
       "182327             0   Low-Value  \n",
       "182328             0   Low-Value  \n",
       "182329             0   Low-Value  \n",
       "182330             0   Low-Value  \n",
       "182331             0   Low-Value  \n",
       "\n",
       "[182332 rows x 10 columns]"
      ]
     },
     "execution_count": 6,
     "metadata": {},
     "output_type": "execute_result"
    }
   ],
   "source": [
    "df = pd.read_csv(\"person_cluster.csv\")\n",
    "df"
   ]
  },
  {
   "cell_type": "code",
   "execution_count": 7,
   "id": "4c1879d8",
   "metadata": {},
   "outputs": [
    {
     "data": {
      "text/html": [
       "<div>\n",
       "<style scoped>\n",
       "    .dataframe tbody tr th:only-of-type {\n",
       "        vertical-align: middle;\n",
       "    }\n",
       "\n",
       "    .dataframe tbody tr th {\n",
       "        vertical-align: top;\n",
       "    }\n",
       "\n",
       "    .dataframe thead th {\n",
       "        text-align: right;\n",
       "    }\n",
       "</style>\n",
       "<table border=\"1\" class=\"dataframe\">\n",
       "  <thead>\n",
       "    <tr style=\"text-align: right;\">\n",
       "      <th></th>\n",
       "      <th>customer</th>\n",
       "      <th>Recency</th>\n",
       "      <th>RecencyCluster</th>\n",
       "      <th>Frequency</th>\n",
       "      <th>FrequencyCluster</th>\n",
       "      <th>Revenue</th>\n",
       "      <th>RevenueCluster</th>\n",
       "      <th>OverallScore</th>\n",
       "      <th>Segment</th>\n",
       "    </tr>\n",
       "  </thead>\n",
       "  <tbody>\n",
       "    <tr>\n",
       "      <th>0</th>\n",
       "      <td>db066f98-5eaa-4655-803d-25d461ff96ab</td>\n",
       "      <td>139</td>\n",
       "      <td>2</td>\n",
       "      <td>182</td>\n",
       "      <td>3</td>\n",
       "      <td>18921</td>\n",
       "      <td>3</td>\n",
       "      <td>8</td>\n",
       "      <td>High-Value</td>\n",
       "    </tr>\n",
       "    <tr>\n",
       "      <th>1</th>\n",
       "      <td>99ea1aba-d615-4541-b067-bc14b45a23b2</td>\n",
       "      <td>131</td>\n",
       "      <td>2</td>\n",
       "      <td>171</td>\n",
       "      <td>3</td>\n",
       "      <td>15691</td>\n",
       "      <td>3</td>\n",
       "      <td>8</td>\n",
       "      <td>High-Value</td>\n",
       "    </tr>\n",
       "    <tr>\n",
       "      <th>2</th>\n",
       "      <td>d5b011c9-76b4-48c0-8c9b-ddd48df0df50</td>\n",
       "      <td>134</td>\n",
       "      <td>2</td>\n",
       "      <td>146</td>\n",
       "      <td>3</td>\n",
       "      <td>16907</td>\n",
       "      <td>3</td>\n",
       "      <td>8</td>\n",
       "      <td>High-Value</td>\n",
       "    </tr>\n",
       "    <tr>\n",
       "      <th>3</th>\n",
       "      <td>79d29e99-f334-4f0b-8b6c-e1730fde5195</td>\n",
       "      <td>239</td>\n",
       "      <td>2</td>\n",
       "      <td>142</td>\n",
       "      <td>3</td>\n",
       "      <td>19298</td>\n",
       "      <td>3</td>\n",
       "      <td>8</td>\n",
       "      <td>High-Value</td>\n",
       "    </tr>\n",
       "    <tr>\n",
       "      <th>4</th>\n",
       "      <td>808e49fb-3844-4926-acff-10208b9b40e6</td>\n",
       "      <td>181</td>\n",
       "      <td>2</td>\n",
       "      <td>142</td>\n",
       "      <td>3</td>\n",
       "      <td>20960</td>\n",
       "      <td>3</td>\n",
       "      <td>8</td>\n",
       "      <td>High-Value</td>\n",
       "    </tr>\n",
       "    <tr>\n",
       "      <th>...</th>\n",
       "      <td>...</td>\n",
       "      <td>...</td>\n",
       "      <td>...</td>\n",
       "      <td>...</td>\n",
       "      <td>...</td>\n",
       "      <td>...</td>\n",
       "      <td>...</td>\n",
       "      <td>...</td>\n",
       "      <td>...</td>\n",
       "    </tr>\n",
       "    <tr>\n",
       "      <th>182327</th>\n",
       "      <td>63e4814f-3b42-44b0-aee5-56b0ab432801</td>\n",
       "      <td>468</td>\n",
       "      <td>0</td>\n",
       "      <td>1</td>\n",
       "      <td>0</td>\n",
       "      <td>300</td>\n",
       "      <td>0</td>\n",
       "      <td>0</td>\n",
       "      <td>Low-Value</td>\n",
       "    </tr>\n",
       "    <tr>\n",
       "      <th>182328</th>\n",
       "      <td>59ae9488-705e-4974-a764-bf1502b47bdd</td>\n",
       "      <td>468</td>\n",
       "      <td>0</td>\n",
       "      <td>1</td>\n",
       "      <td>0</td>\n",
       "      <td>300</td>\n",
       "      <td>0</td>\n",
       "      <td>0</td>\n",
       "      <td>Low-Value</td>\n",
       "    </tr>\n",
       "    <tr>\n",
       "      <th>182329</th>\n",
       "      <td>3369bff6-aa95-43a2-8fa7-95abad596cd4</td>\n",
       "      <td>468</td>\n",
       "      <td>0</td>\n",
       "      <td>1</td>\n",
       "      <td>0</td>\n",
       "      <td>300</td>\n",
       "      <td>0</td>\n",
       "      <td>0</td>\n",
       "      <td>Low-Value</td>\n",
       "    </tr>\n",
       "    <tr>\n",
       "      <th>182330</th>\n",
       "      <td>0df33f26-bdf2-47d0-9b4c-b93c73b7f517</td>\n",
       "      <td>468</td>\n",
       "      <td>0</td>\n",
       "      <td>1</td>\n",
       "      <td>0</td>\n",
       "      <td>300</td>\n",
       "      <td>0</td>\n",
       "      <td>0</td>\n",
       "      <td>Low-Value</td>\n",
       "    </tr>\n",
       "    <tr>\n",
       "      <th>182331</th>\n",
       "      <td>d52a2b1b-22f4-4322-8184-3c57eabe27b2</td>\n",
       "      <td>602</td>\n",
       "      <td>0</td>\n",
       "      <td>2</td>\n",
       "      <td>0</td>\n",
       "      <td>409</td>\n",
       "      <td>0</td>\n",
       "      <td>0</td>\n",
       "      <td>Low-Value</td>\n",
       "    </tr>\n",
       "  </tbody>\n",
       "</table>\n",
       "<p>182332 rows × 9 columns</p>\n",
       "</div>"
      ],
      "text/plain": [
       "                                    customer  Recency  RecencyCluster  \\\n",
       "0       db066f98-5eaa-4655-803d-25d461ff96ab      139               2   \n",
       "1       99ea1aba-d615-4541-b067-bc14b45a23b2      131               2   \n",
       "2       d5b011c9-76b4-48c0-8c9b-ddd48df0df50      134               2   \n",
       "3       79d29e99-f334-4f0b-8b6c-e1730fde5195      239               2   \n",
       "4       808e49fb-3844-4926-acff-10208b9b40e6      181               2   \n",
       "...                                      ...      ...             ...   \n",
       "182327  63e4814f-3b42-44b0-aee5-56b0ab432801      468               0   \n",
       "182328  59ae9488-705e-4974-a764-bf1502b47bdd      468               0   \n",
       "182329  3369bff6-aa95-43a2-8fa7-95abad596cd4      468               0   \n",
       "182330  0df33f26-bdf2-47d0-9b4c-b93c73b7f517      468               0   \n",
       "182331  d52a2b1b-22f4-4322-8184-3c57eabe27b2      602               0   \n",
       "\n",
       "        Frequency  FrequencyCluster  Revenue  RevenueCluster  OverallScore  \\\n",
       "0             182                 3    18921               3             8   \n",
       "1             171                 3    15691               3             8   \n",
       "2             146                 3    16907               3             8   \n",
       "3             142                 3    19298               3             8   \n",
       "4             142                 3    20960               3             8   \n",
       "...           ...               ...      ...             ...           ...   \n",
       "182327          1                 0      300               0             0   \n",
       "182328          1                 0      300               0             0   \n",
       "182329          1                 0      300               0             0   \n",
       "182330          1                 0      300               0             0   \n",
       "182331          2                 0      409               0             0   \n",
       "\n",
       "           Segment  \n",
       "0       High-Value  \n",
       "1       High-Value  \n",
       "2       High-Value  \n",
       "3       High-Value  \n",
       "4       High-Value  \n",
       "...            ...  \n",
       "182327   Low-Value  \n",
       "182328   Low-Value  \n",
       "182329   Low-Value  \n",
       "182330   Low-Value  \n",
       "182331   Low-Value  \n",
       "\n",
       "[182332 rows x 9 columns]"
      ]
     },
     "execution_count": 7,
     "metadata": {},
     "output_type": "execute_result"
    }
   ],
   "source": [
    "customer_value = df.drop('Unnamed: 0',axis = 1)\n",
    "customer_value"
   ]
  },
  {
   "cell_type": "code",
   "execution_count": 8,
   "id": "ad9ec57c",
   "metadata": {},
   "outputs": [
    {
     "data": {
      "text/plain": [
       "2    38724\n",
       "3    29299\n",
       "4    25719\n",
       "5    19370\n",
       "1    16845\n",
       "0    16620\n",
       "6    12262\n",
       "7    11536\n",
       "8     6169\n",
       "9     5788\n",
       "Name: OverallScore, dtype: int64"
      ]
     },
     "execution_count": 8,
     "metadata": {},
     "output_type": "execute_result"
    }
   ],
   "source": [
    "customer_value['OverallScore'].value_counts()"
   ]
  },
  {
   "cell_type": "markdown",
   "id": "eb5f8599",
   "metadata": {},
   "source": [
    "## Label encoding"
   ]
  },
  {
   "cell_type": "code",
   "execution_count": 9,
   "id": "0ab1fa0c",
   "metadata": {},
   "outputs": [
    {
     "data": {
      "text/html": [
       "<div>\n",
       "<style scoped>\n",
       "    .dataframe tbody tr th:only-of-type {\n",
       "        vertical-align: middle;\n",
       "    }\n",
       "\n",
       "    .dataframe tbody tr th {\n",
       "        vertical-align: top;\n",
       "    }\n",
       "\n",
       "    .dataframe thead th {\n",
       "        text-align: right;\n",
       "    }\n",
       "</style>\n",
       "<table border=\"1\" class=\"dataframe\">\n",
       "  <thead>\n",
       "    <tr style=\"text-align: right;\">\n",
       "      <th></th>\n",
       "      <th>customer</th>\n",
       "      <th>Recency</th>\n",
       "      <th>RecencyCluster</th>\n",
       "      <th>Frequency</th>\n",
       "      <th>FrequencyCluster</th>\n",
       "      <th>Revenue</th>\n",
       "      <th>RevenueCluster</th>\n",
       "      <th>OverallScore</th>\n",
       "      <th>Segment</th>\n",
       "    </tr>\n",
       "  </thead>\n",
       "  <tbody>\n",
       "    <tr>\n",
       "      <th>0</th>\n",
       "      <td>db066f98-5eaa-4655-803d-25d461ff96ab</td>\n",
       "      <td>139</td>\n",
       "      <td>2</td>\n",
       "      <td>182</td>\n",
       "      <td>3</td>\n",
       "      <td>18921</td>\n",
       "      <td>3</td>\n",
       "      <td>8</td>\n",
       "      <td>0</td>\n",
       "    </tr>\n",
       "    <tr>\n",
       "      <th>1</th>\n",
       "      <td>99ea1aba-d615-4541-b067-bc14b45a23b2</td>\n",
       "      <td>131</td>\n",
       "      <td>2</td>\n",
       "      <td>171</td>\n",
       "      <td>3</td>\n",
       "      <td>15691</td>\n",
       "      <td>3</td>\n",
       "      <td>8</td>\n",
       "      <td>0</td>\n",
       "    </tr>\n",
       "    <tr>\n",
       "      <th>2</th>\n",
       "      <td>d5b011c9-76b4-48c0-8c9b-ddd48df0df50</td>\n",
       "      <td>134</td>\n",
       "      <td>2</td>\n",
       "      <td>146</td>\n",
       "      <td>3</td>\n",
       "      <td>16907</td>\n",
       "      <td>3</td>\n",
       "      <td>8</td>\n",
       "      <td>0</td>\n",
       "    </tr>\n",
       "    <tr>\n",
       "      <th>3</th>\n",
       "      <td>79d29e99-f334-4f0b-8b6c-e1730fde5195</td>\n",
       "      <td>239</td>\n",
       "      <td>2</td>\n",
       "      <td>142</td>\n",
       "      <td>3</td>\n",
       "      <td>19298</td>\n",
       "      <td>3</td>\n",
       "      <td>8</td>\n",
       "      <td>0</td>\n",
       "    </tr>\n",
       "    <tr>\n",
       "      <th>4</th>\n",
       "      <td>808e49fb-3844-4926-acff-10208b9b40e6</td>\n",
       "      <td>181</td>\n",
       "      <td>2</td>\n",
       "      <td>142</td>\n",
       "      <td>3</td>\n",
       "      <td>20960</td>\n",
       "      <td>3</td>\n",
       "      <td>8</td>\n",
       "      <td>0</td>\n",
       "    </tr>\n",
       "  </tbody>\n",
       "</table>\n",
       "</div>"
      ],
      "text/plain": [
       "                               customer  Recency  RecencyCluster  Frequency  \\\n",
       "0  db066f98-5eaa-4655-803d-25d461ff96ab      139               2        182   \n",
       "1  99ea1aba-d615-4541-b067-bc14b45a23b2      131               2        171   \n",
       "2  d5b011c9-76b4-48c0-8c9b-ddd48df0df50      134               2        146   \n",
       "3  79d29e99-f334-4f0b-8b6c-e1730fde5195      239               2        142   \n",
       "4  808e49fb-3844-4926-acff-10208b9b40e6      181               2        142   \n",
       "\n",
       "   FrequencyCluster  Revenue  RevenueCluster  OverallScore  Segment  \n",
       "0                 3    18921               3             8        0  \n",
       "1                 3    15691               3             8        0  \n",
       "2                 3    16907               3             8        0  \n",
       "3                 3    19298               3             8        0  \n",
       "4                 3    20960               3             8        0  "
      ]
     },
     "execution_count": 9,
     "metadata": {},
     "output_type": "execute_result"
    }
   ],
   "source": [
    "from sklearn.preprocessing import LabelEncoder\n",
    "labelencoder = LabelEncoder()\n",
    "customer_value['Segment'] = labelencoder.fit_transform(customer_value['Segment'])\n",
    "customer_value.head()"
   ]
  },
  {
   "cell_type": "code",
   "execution_count": 10,
   "id": "d8870c9f",
   "metadata": {},
   "outputs": [
    {
     "data": {
      "text/plain": [
       "array(['High-Value', 'Low-Value', 'Mid-Value'], dtype=object)"
      ]
     },
     "execution_count": 10,
     "metadata": {},
     "output_type": "execute_result"
    }
   ],
   "source": [
    "labelencoder.classes_"
   ]
  },
  {
   "cell_type": "code",
   "execution_count": 11,
   "id": "20b6e410",
   "metadata": {},
   "outputs": [
    {
     "data": {
      "text/html": [
       "<div>\n",
       "<style scoped>\n",
       "    .dataframe tbody tr th:only-of-type {\n",
       "        vertical-align: middle;\n",
       "    }\n",
       "\n",
       "    .dataframe tbody tr th {\n",
       "        vertical-align: top;\n",
       "    }\n",
       "\n",
       "    .dataframe thead th {\n",
       "        text-align: right;\n",
       "    }\n",
       "</style>\n",
       "<table border=\"1\" class=\"dataframe\">\n",
       "  <thead>\n",
       "    <tr style=\"text-align: right;\">\n",
       "      <th></th>\n",
       "      <th>Recency</th>\n",
       "      <th>RecencyCluster</th>\n",
       "      <th>Frequency</th>\n",
       "      <th>FrequencyCluster</th>\n",
       "      <th>Revenue</th>\n",
       "      <th>RevenueCluster</th>\n",
       "      <th>OverallScore</th>\n",
       "      <th>Segment</th>\n",
       "    </tr>\n",
       "  </thead>\n",
       "  <tbody>\n",
       "    <tr>\n",
       "      <th>Recency</th>\n",
       "      <td>1.000000</td>\n",
       "      <td>-0.965624</td>\n",
       "      <td>-0.254056</td>\n",
       "      <td>-0.242486</td>\n",
       "      <td>-0.277568</td>\n",
       "      <td>-0.268177</td>\n",
       "      <td>-0.639998</td>\n",
       "      <td>-0.084489</td>\n",
       "    </tr>\n",
       "    <tr>\n",
       "      <th>RecencyCluster</th>\n",
       "      <td>-0.965624</td>\n",
       "      <td>1.000000</td>\n",
       "      <td>0.238635</td>\n",
       "      <td>0.227285</td>\n",
       "      <td>0.261360</td>\n",
       "      <td>0.251650</td>\n",
       "      <td>0.642517</td>\n",
       "      <td>0.080366</td>\n",
       "    </tr>\n",
       "    <tr>\n",
       "      <th>Frequency</th>\n",
       "      <td>-0.254056</td>\n",
       "      <td>0.238635</td>\n",
       "      <td>1.000000</td>\n",
       "      <td>0.951055</td>\n",
       "      <td>0.937704</td>\n",
       "      <td>0.904510</td>\n",
       "      <td>0.861933</td>\n",
       "      <td>-0.282637</td>\n",
       "    </tr>\n",
       "    <tr>\n",
       "      <th>FrequencyCluster</th>\n",
       "      <td>-0.242486</td>\n",
       "      <td>0.227285</td>\n",
       "      <td>0.951055</td>\n",
       "      <td>1.000000</td>\n",
       "      <td>0.890005</td>\n",
       "      <td>0.890143</td>\n",
       "      <td>0.871650</td>\n",
       "      <td>-0.207952</td>\n",
       "    </tr>\n",
       "    <tr>\n",
       "      <th>Revenue</th>\n",
       "      <td>-0.277568</td>\n",
       "      <td>0.261360</td>\n",
       "      <td>0.937704</td>\n",
       "      <td>0.890005</td>\n",
       "      <td>1.000000</td>\n",
       "      <td>0.936118</td>\n",
       "      <td>0.859056</td>\n",
       "      <td>-0.303857</td>\n",
       "    </tr>\n",
       "    <tr>\n",
       "      <th>RevenueCluster</th>\n",
       "      <td>-0.268177</td>\n",
       "      <td>0.251650</td>\n",
       "      <td>0.904510</td>\n",
       "      <td>0.890143</td>\n",
       "      <td>0.936118</td>\n",
       "      <td>1.000000</td>\n",
       "      <td>0.879988</td>\n",
       "      <td>-0.233162</td>\n",
       "    </tr>\n",
       "    <tr>\n",
       "      <th>OverallScore</th>\n",
       "      <td>-0.639998</td>\n",
       "      <td>0.642517</td>\n",
       "      <td>0.861933</td>\n",
       "      <td>0.871650</td>\n",
       "      <td>0.859056</td>\n",
       "      <td>0.879988</td>\n",
       "      <td>1.000000</td>\n",
       "      <td>-0.143048</td>\n",
       "    </tr>\n",
       "    <tr>\n",
       "      <th>Segment</th>\n",
       "      <td>-0.084489</td>\n",
       "      <td>0.080366</td>\n",
       "      <td>-0.282637</td>\n",
       "      <td>-0.207952</td>\n",
       "      <td>-0.303857</td>\n",
       "      <td>-0.233162</td>\n",
       "      <td>-0.143048</td>\n",
       "      <td>1.000000</td>\n",
       "    </tr>\n",
       "  </tbody>\n",
       "</table>\n",
       "</div>"
      ],
      "text/plain": [
       "                   Recency  RecencyCluster  Frequency  FrequencyCluster  \\\n",
       "Recency           1.000000       -0.965624  -0.254056         -0.242486   \n",
       "RecencyCluster   -0.965624        1.000000   0.238635          0.227285   \n",
       "Frequency        -0.254056        0.238635   1.000000          0.951055   \n",
       "FrequencyCluster -0.242486        0.227285   0.951055          1.000000   \n",
       "Revenue          -0.277568        0.261360   0.937704          0.890005   \n",
       "RevenueCluster   -0.268177        0.251650   0.904510          0.890143   \n",
       "OverallScore     -0.639998        0.642517   0.861933          0.871650   \n",
       "Segment          -0.084489        0.080366  -0.282637         -0.207952   \n",
       "\n",
       "                   Revenue  RevenueCluster  OverallScore   Segment  \n",
       "Recency          -0.277568       -0.268177     -0.639998 -0.084489  \n",
       "RecencyCluster    0.261360        0.251650      0.642517  0.080366  \n",
       "Frequency         0.937704        0.904510      0.861933 -0.282637  \n",
       "FrequencyCluster  0.890005        0.890143      0.871650 -0.207952  \n",
       "Revenue           1.000000        0.936118      0.859056 -0.303857  \n",
       "RevenueCluster    0.936118        1.000000      0.879988 -0.233162  \n",
       "OverallScore      0.859056        0.879988      1.000000 -0.143048  \n",
       "Segment          -0.303857       -0.233162     -0.143048  1.000000  "
      ]
     },
     "execution_count": 11,
     "metadata": {},
     "output_type": "execute_result"
    }
   ],
   "source": [
    "corr_matrix = customer_value.corr()\n",
    "corr_matrix"
   ]
  },
  {
   "cell_type": "markdown",
   "id": "acd68ad7",
   "metadata": {},
   "source": [
    "##  Standaration"
   ]
  },
  {
   "cell_type": "code",
   "execution_count": 12,
   "id": "26947e43",
   "metadata": {},
   "outputs": [],
   "source": [
    "from sklearn.preprocessing import StandardScaler\n",
    "scalar = StandardScaler()\n",
    "#x = scalar.fit_transform(customer_value[['Recency', 'Frequency', 'Revenue', 'RecencyCluster', 'FrequencyCluster', 'RevenueCluster']])\n",
    "x = scalar.fit_transform(customer_value[['Recency', 'Frequency', 'Revenue']])\n",
    "# 結果\n",
    "y = customer_value['Segment']"
   ]
  },
  {
   "cell_type": "code",
   "execution_count": 13,
   "id": "bcd3ca82",
   "metadata": {},
   "outputs": [
    {
     "data": {
      "text/plain": [
       "(array([[-0.50008093,  3.24791646,  2.86451432],\n",
       "        [-0.55343729,  2.97886516,  2.17194141],\n",
       "        [-0.53342866,  2.36738494,  2.43267474],\n",
       "        ...,\n",
       "        [ 1.69419936, -1.17920037, -1.12817926],\n",
       "        [ 1.69419936, -1.17920037, -1.12817926],\n",
       "        [ 2.58791838, -1.15474116, -1.1048076 ]]),\n",
       " 0         0\n",
       " 1         0\n",
       " 2         0\n",
       " 3         0\n",
       " 4         0\n",
       "          ..\n",
       " 182327    1\n",
       " 182328    1\n",
       " 182329    1\n",
       " 182330    1\n",
       " 182331    1\n",
       " Name: Segment, Length: 182332, dtype: int32)"
      ]
     },
     "execution_count": 13,
     "metadata": {},
     "output_type": "execute_result"
    }
   ],
   "source": [
    "x,y"
   ]
  },
  {
   "cell_type": "markdown",
   "id": "f469f0c7",
   "metadata": {},
   "source": [
    "##  Split Test and Train"
   ]
  },
  {
   "cell_type": "code",
   "execution_count": 14,
   "id": "97afa781",
   "metadata": {},
   "outputs": [],
   "source": [
    "from sklearn.model_selection import train_test_split\n",
    "X_train, X_test, y_train, y_test = train_test_split(x, y, test_size=0.5, random_state=56)"
   ]
  },
  {
   "cell_type": "markdown",
   "id": "e3df9d41",
   "metadata": {},
   "source": [
    "## Support Vector Machine "
   ]
  },
  {
   "cell_type": "markdown",
   "id": "e1380560",
   "metadata": {},
   "source": [
    "'Recency', 'Frequency', 'Revenue'"
   ]
  },
  {
   "cell_type": "code",
   "execution_count": 15,
   "id": "763e86e8",
   "metadata": {},
   "outputs": [
    {
     "data": {
      "text/plain": [
       "array([2, 1, 0, ..., 2, 1, 1])"
      ]
     },
     "execution_count": 15,
     "metadata": {},
     "output_type": "execute_result"
    }
   ],
   "source": [
    "from sklearn import svm\n",
    "from sklearn.model_selection import KFold, cross_val_score\n",
    "\n",
    "clf = svm.SVC(kernel='rbf',C=1,gamma='auto')\n",
    "clf.fit(X_train, y_train)\n",
    "\n",
    "clf.predict(X_test)"
   ]
  },
  {
   "cell_type": "code",
   "execution_count": 16,
   "id": "f12e5a0c",
   "metadata": {},
   "outputs": [
    {
     "name": "stdout",
     "output_type": "stream",
     "text": [
      "0.9656560559857842\n",
      "0.9651405129105148\n",
      "[0.96599759 0.96336313 0.96435035 0.96550211 0.96402128]\n",
      "0.964646893022685\n"
     ]
    }
   ],
   "source": [
    "print(clf.score(X_train, y_train))\n",
    "print(clf.score(X_test, y_test))\n",
    "\n",
    "#交叉驗證\n",
    "scores = cross_val_score(clf, X_train, y_train, cv=5, scoring='accuracy')\n",
    "print(scores)\n",
    "print(scores.mean())"
   ]
  },
  {
   "cell_type": "markdown",
   "id": "376df969",
   "metadata": {},
   "source": [
    "## XGBoost"
   ]
  },
  {
   "cell_type": "code",
   "execution_count": 17,
   "id": "8ad8ef69",
   "metadata": {},
   "outputs": [
    {
     "name": "stderr",
     "output_type": "stream",
     "text": [
      "C:\\Users\\liou7\\anaconda3\\envs\\maskrcnn\\lib\\site-packages\\xgboost\\sklearn.py:1224: UserWarning: The use of label encoder in XGBClassifier is deprecated and will be removed in a future release. To remove this warning, do the following: 1) Pass option use_label_encoder=False when constructing XGBClassifier object; and 2) Encode your labels (y) as integers starting with 0, i.e. 0, 1, 2, ..., [num_class - 1].\n",
      "  warnings.warn(label_encoder_deprecation_msg, UserWarning)\n"
     ]
    },
    {
     "name": "stdout",
     "output_type": "stream",
     "text": [
      "[18:17:49] WARNING: C:/Users/Administrator/workspace/xgboost-win64_release_1.5.1/src/learner.cc:1115: Starting in XGBoost 1.3.0, the default evaluation metric used with the objective 'multi:softprob' was changed from 'merror' to 'mlogloss'. Explicitly set eval_metric if you'd like to restore the old behavior.\n",
      "1.0\n",
      "0.9999451549919927\n"
     ]
    }
   ],
   "source": [
    "from xgboost import XGBClassifier\n",
    "xgbc = XGBClassifier()\n",
    "xgbc.fit(X_train, y_train)\n",
    "\n",
    "print(xgbc.score(X_train, y_train))\n",
    "print(xgbc.score(X_test, y_test))"
   ]
  },
  {
   "cell_type": "markdown",
   "id": "f1ae0d68",
   "metadata": {},
   "source": [
    "## Decision Tree"
   ]
  },
  {
   "cell_type": "code",
   "execution_count": 19,
   "id": "dcc8af65",
   "metadata": {},
   "outputs": [
    {
     "name": "stdout",
     "output_type": "stream",
     "text": [
      "0.7546344031766229\n",
      "0.7584516157339359\n"
     ]
    }
   ],
   "source": [
    "from sklearn.tree import DecisionTreeClassifier\n",
    "\n",
    "model = DecisionTreeClassifier(max_depth=2,criterion='entropy')\n",
    "model.fit(X_train, y_train)\n",
    "\n",
    "y_pred = model.predict(X_test)\n",
    "\n",
    "print(model.score(X_train, y_train))\n",
    "print(model.score(X_test, y_test))"
   ]
  },
  {
   "cell_type": "code",
   "execution_count": 20,
   "id": "b3ee6bab",
   "metadata": {},
   "outputs": [
    {
     "name": "stdout",
     "output_type": "stream",
     "text": [
      "[0.75704727 0.75248176 0.75714364 0.75122031 0.75527889]\n",
      "0.754634376709545\n"
     ]
    }
   ],
   "source": [
    "#交叉驗證\n",
    "scores_dt = cross_val_score(model, X_train, y_train, cv=5, scoring='accuracy')\n",
    "print(scores_dt)\n",
    "print(scores_dt.mean())"
   ]
  },
  {
   "cell_type": "code",
   "execution_count": 21,
   "id": "0c28c051",
   "metadata": {},
   "outputs": [
    {
     "data": {
      "text/plain": [
       "[Text(167.4, 181.2, 'X[2] <= 0.607\\nentropy = 1.42\\nsamples = 91166\\nvalue = [11753, 36069, 43344]'),\n",
       " Text(83.7, 108.72, 'X[0] <= -0.643\\nentropy = 1.001\\nsamples = 71685\\nvalue = [6, 36067, 35612]'),\n",
       " Text(41.85, 36.23999999999998, 'entropy = 0.005\\nsamples = 16747\\nvalue = [6, 0, 16741]'),\n",
       " Text(125.55000000000001, 36.23999999999998, 'entropy = 0.928\\nsamples = 54938\\nvalue = [0, 36067, 18871]'),\n",
       " Text(251.10000000000002, 108.72, 'X[0] <= -0.643\\nentropy = 0.971\\nsamples = 19481\\nvalue = [11747, 2, 7732]'),\n",
       " Text(209.25, 36.23999999999998, 'entropy = 0.404\\nsamples = 9843\\nvalue = [9050, 0, 793]'),\n",
       " Text(292.95, 36.23999999999998, 'entropy = 0.858\\nsamples = 9638\\nvalue = [2697, 2, 6939]')]"
      ]
     },
     "execution_count": 21,
     "metadata": {},
     "output_type": "execute_result"
    },
    {
     "data": {
      "image/png": "[encoded data removed]",
      "text/plain": [
       "<Figure size 432x288 with 1 Axes>"
      ]
     },
     "metadata": {
      "needs_background": "light"
     },
     "output_type": "display_data"
    }
   ],
   "source": [
    "from sklearn.tree import export_graphviz\n",
    "from sklearn import tree\n",
    "tree.plot_tree(model)"
   ]
  },
  {
   "cell_type": "markdown",
   "id": "90df8218",
   "metadata": {},
   "source": [
    "## Logistic Regression"
   ]
  },
  {
   "cell_type": "code",
   "execution_count": 22,
   "id": "625de7e3",
   "metadata": {},
   "outputs": [
    {
     "name": "stdout",
     "output_type": "stream",
     "text": [
      "0.908266239606871\n",
      "0.9099225588486936\n"
     ]
    }
   ],
   "source": [
    "from sklearn.linear_model import LogisticRegression\n",
    "from sklearn import metrics\n",
    "\n",
    "logreg = LogisticRegression()\n",
    "logreg.fit(X_train, y_train)\n",
    "\n",
    "y_prd = logreg.predict(X_test)\n",
    "\n",
    "print(logreg.score(X_train, y_train))\n",
    "print(logreg.score(X_test, y_test))"
   ]
  },
  {
   "cell_type": "markdown",
   "id": "b50d72ad",
   "metadata": {},
   "source": [
    "## Naive Bytes"
   ]
  },
  {
   "cell_type": "code",
   "execution_count": 23,
   "id": "d17cc255",
   "metadata": {},
   "outputs": [
    {
     "name": "stdout",
     "output_type": "stream",
     "text": [
      "0.8428251760524758\n",
      "0.8438014171950069\n"
     ]
    }
   ],
   "source": [
    "from sklearn.naive_bayes import GaussianNB\n",
    "\n",
    "model = GaussianNB()\n",
    "model.fit(X_train, y_train)\n",
    "\n",
    "y_pred = model.predict(X_test)\n",
    "print(model.score(X_train, y_train))\n",
    "print(model.score(X_test, y_test))"
   ]
  },
  {
   "cell_type": "markdown",
   "id": "c06abf95",
   "metadata": {},
   "source": [
    "## K-Nearest Neighbors"
   ]
  },
  {
   "cell_type": "code",
   "execution_count": 24,
   "id": "7e3fcace",
   "metadata": {},
   "outputs": [
    {
     "name": "stdout",
     "output_type": "stream",
     "text": [
      "0.9967860825307681\n",
      "0.9931224359958757\n"
     ]
    }
   ],
   "source": [
    "from sklearn.neighbors import KNeighborsClassifier\n",
    "\n",
    "model = KNeighborsClassifier()\n",
    "model.fit(X_train, y_train)\n",
    "\n",
    "y_pred = model.predict(X_test)\n",
    "print(model.score(X_train, y_train))\n",
    "print(model.score(X_test, y_test))"
   ]
  },
  {
   "cell_type": "code",
   "execution_count": null,
   "id": "c730c730",
   "metadata": {},
   "outputs": [],
   "source": []
  }
 ],
 "metadata": {
  "kernelspec": {
   "display_name": "Python (tensorflow-gpu)",
   "language": "python",
   "name": "tensorflow-gpu"
  },
  "language_info": {
   "codemirror_mode": {
    "name": "ipython",
    "version": 3
   },
   "file_extension": ".py",
   "mimetype": "text/x-python",
   "name": "python",
   "nbconvert_exporter": "python",
   "pygments_lexer": "ipython3",
   "version": "3.6.13"
  }
 },
 "nbformat": 4,
 "nbformat_minor": 5
}
